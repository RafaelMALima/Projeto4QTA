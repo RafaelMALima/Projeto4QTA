{
 "cells": [
  {
   "cell_type": "code",
   "execution_count": 6,
   "metadata": {},
   "outputs": [],
   "source": [
    "import numpy as np\n",
    "import matplotlib.pyplot as plt\n",
    "import pandas as pd\n",
    "from IQA import IQA"
   ]
  },
  {
   "attachments": {},
   "cell_type": "markdown",
   "metadata": {},
   "source": [
    "o2(%) = 0.78\n",
    "\n",
    "q[o2(%)] = 82.98"
   ]
  },
  {
   "attachments": {},
   "cell_type": "markdown",
   "metadata": {},
   "source": [
    "o2 (mg/L) = 5.6\n",
    "\n",
    "q[o2(mg/L)] ="
   ]
  },
  {
   "attachments": {},
   "cell_type": "markdown",
   "metadata": {},
   "source": [
    "Tamb = 29\n",
    "Th2o = 24\n",
    "DeltaT = -5\n",
    "\n",
    "q[DeltaT(-5)] = 51,29"
   ]
  },
  {
   "attachments": {},
   "cell_type": "markdown",
   "metadata": {},
   "source": [
    "pH = 6\n",
    "\n",
    "q[pH] = 51.05"
   ]
  },
  {
   "attachments": {},
   "cell_type": "markdown",
   "metadata": {},
   "source": [
    "Turbidez = \n",
    "\n",
    "q[Turbidez] = \n"
   ]
  },
  {
   "cell_type": "code",
   "execution_count": 7,
   "metadata": {},
   "outputs": [
    {
     "name": "stdout",
     "output_type": "stream",
     "text": [
      "5.037188957853386\n"
     ]
    }
   ],
   "source": [
    "# \"nome\": [q,w]\n",
    "\n",
    "labels = [\"ColFec\",\"pH\",\"DBO\",\"NTotal\",\"PTotal\",\"Temp\",\"Turb\",\"ResTotal\",\"o2Dissolv\"]\n",
    "qs = [1,51.05,1,1,1,51.29,1,1,82.98] # 1 not found\n",
    "ws = [0.15,0.12,0.1,0.1,0.1,0.1,0.08,0.08,0.17]\n",
    "\n",
    "print(IQA(qs))"
   ]
  }
 ],
 "metadata": {
  "kernelspec": {
   "display_name": "Python 3",
   "language": "python",
   "name": "python3"
  },
  "language_info": {
   "codemirror_mode": {
    "name": "ipython",
    "version": 3
   },
   "file_extension": ".py",
   "mimetype": "text/x-python",
   "name": "python",
   "nbconvert_exporter": "python",
   "pygments_lexer": "ipython3",
   "version": "3.11.3"
  },
  "orig_nbformat": 4
 },
 "nbformat": 4,
 "nbformat_minor": 2
}
