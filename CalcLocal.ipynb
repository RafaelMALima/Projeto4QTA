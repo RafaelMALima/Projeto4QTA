{
 "cells": [
  {
   "cell_type": "code",
   "execution_count": 257,
   "metadata": {},
   "outputs": [],
   "source": [
    "import numpy as np\n",
    "import matplotlib.pyplot as plt\n",
    "import pandas as pd\n",
    "from IQA import IQA\n",
    "\n",
    "qs = [1]*10"
   ]
  },
  {
   "attachments": {},
   "cell_type": "markdown",
   "metadata": {},
   "source": [
    "### Valores"
   ]
  },
  {
   "attachments": {},
   "cell_type": "markdown",
   "metadata": {},
   "source": [
    "* 1\n",
    "\n",
    "Coliformes = 8800\n",
    "\n",
    "q[Coliformes] = 7.5"
   ]
  },
  {
   "cell_type": "code",
   "execution_count": 258,
   "metadata": {},
   "outputs": [],
   "source": [
    "qs[0] = 7.5"
   ]
  },
  {
   "attachments": {},
   "cell_type": "markdown",
   "metadata": {},
   "source": [
    "* 2 \n",
    "  \n",
    "pH = 6\n",
    "\n",
    "q[pH] = 51.05"
   ]
  },
  {
   "cell_type": "code",
   "execution_count": 259,
   "metadata": {},
   "outputs": [],
   "source": [
    "qs[1] = 51.05"
   ]
  },
  {
   "attachments": {},
   "cell_type": "markdown",
   "metadata": {},
   "source": [
    "* 3\n",
    "\n",
    "DBO = 32.5\n",
    "\n",
    "q[DBO] = 2"
   ]
  },
  {
   "cell_type": "code",
   "execution_count": 260,
   "metadata": {},
   "outputs": [],
   "source": [
    "qs[2] = 2"
   ]
  },
  {
   "attachments": {},
   "cell_type": "markdown",
   "metadata": {},
   "source": [
    "* 4\n",
    "\n",
    "Ntotal = 6.125 mg/L\n",
    "\n",
    "q[NTotal] = 65.976"
   ]
  },
  {
   "cell_type": "code",
   "execution_count": 261,
   "metadata": {},
   "outputs": [],
   "source": [
    "qs[3] = 65.976"
   ]
  },
  {
   "attachments": {},
   "cell_type": "markdown",
   "metadata": {},
   "source": [
    "* 5 \n",
    "  \n",
    "PTotal = 20.6\n",
    "\n",
    "q[PTotal] = 1"
   ]
  },
  {
   "cell_type": "code",
   "execution_count": 262,
   "metadata": {},
   "outputs": [],
   "source": [
    "qs[4] = 1"
   ]
  },
  {
   "attachments": {},
   "cell_type": "markdown",
   "metadata": {},
   "source": [
    "* 6\n",
    "\n",
    "\n",
    "Tamb = 29\n",
    "\n",
    "Th2o = 24\n",
    "\n",
    "DeltaT = -5\n",
    "\n",
    "q[DeltaT(-5)] = 51,29"
   ]
  },
  {
   "cell_type": "code",
   "execution_count": 263,
   "metadata": {},
   "outputs": [],
   "source": [
    "qs[5] = 51.29"
   ]
  },
  {
   "attachments": {},
   "cell_type": "markdown",
   "metadata": {},
   "source": [
    "* 7\n",
    "\n",
    "Turbidez = 69.26\n",
    "\n",
    "q[Turbidez] = 30.623\n"
   ]
  },
  {
   "cell_type": "code",
   "execution_count": 264,
   "metadata": {},
   "outputs": [],
   "source": [
    "qs[6] = 30.623"
   ]
  },
  {
   "attachments": {},
   "cell_type": "markdown",
   "metadata": {},
   "source": [
    "* 8\n",
    "\n",
    "ResTotal = 152.9 mg\n",
    "\n",
    "q[ResTotal] = 79.751"
   ]
  },
  {
   "cell_type": "code",
   "execution_count": 265,
   "metadata": {},
   "outputs": [],
   "source": [
    "qs[7] = 79.751"
   ]
  },
  {
   "attachments": {},
   "cell_type": "markdown",
   "metadata": {},
   "source": [
    "* 9\n",
    "\n",
    "o2(%) = 78%\n",
    "\n",
    "q[o2(%)] = 82.98"
   ]
  },
  {
   "cell_type": "code",
   "execution_count": 266,
   "metadata": {},
   "outputs": [],
   "source": [
    "qs[8] = 82.98"
   ]
  },
  {
   "attachments": {},
   "cell_type": "markdown",
   "metadata": {},
   "source": [
    "### IQA"
   ]
  },
  {
   "cell_type": "code",
   "execution_count": 267,
   "metadata": {},
   "outputs": [
    {
     "name": "stdout",
     "output_type": "stream",
     "text": [
      "IQA = 20.726\n"
     ]
    }
   ],
   "source": [
    "print(f\"IQA = {IQA(qs):.3f}\")"
   ]
  },
  {
   "attachments": {},
   "cell_type": "markdown",
   "metadata": {},
   "source": [
    "### Cálculos"
   ]
  },
  {
   "cell_type": "code",
   "execution_count": 268,
   "metadata": {},
   "outputs": [
    {
     "name": "stdout",
     "output_type": "stream",
     "text": [
      "Coliformes = 6.485\n"
     ]
    }
   ],
   "source": [
    "#1. Linha de tendência para definir q[Coliformes]\n",
    "\n",
    "x = 8800\n",
    "\n",
    "def Coliformes(x):\n",
    "    if x > 1e5:\n",
    "        return 3\n",
    "    if x <21:\n",
    "        return 6.17e-6*x**6 - 5.34e-4*x**5 + 1.83e-2*x**4 - 3.18e-1*x**3 + 3.01*x**2 - 1.64e1*x + 110\n",
    "    if x<101:\n",
    "        return 0.0019*x**2 - 0.4252*x + 62.238\n",
    "    if x<882:\n",
    "        return -6.15e-8*x**3 + 1.2e-4*x**2 - 8.71e-2*x + 45.5\n",
    "    if x<10448:\n",
    "        return 8.59e-15*x**4 - 2.27e-10*x**3 + 2.19e-6*x**2 - 9.81e-3*x + 26.4\n",
    "    return -4.67e-28*x**6 + 1.64e-22*x**5 - 2.26e-17*x**4 + 1.52e-12*x**3 - 5e-8*x**2 + 6.44e-4*x - 3.14\n",
    "\n",
    "\n",
    "print(f\"Coliformes = {Coliformes(x):.3f}\")"
   ]
  },
  {
   "cell_type": "code",
   "execution_count": 269,
   "metadata": {},
   "outputs": [
    {
     "name": "stdout",
     "output_type": "stream",
     "text": [
      "pH\n",
      "y(6) = 51.904\n"
     ]
    }
   ],
   "source": [
    "#2. Linha de tendência para definir q[pH]\n",
    "# TODO Revisar\n",
    "\n",
    "x = 6\n",
    "\n",
    "def pH(x):\n",
    "    if x<2:\n",
    "        return 2\n",
    "    if x>12:\n",
    "        return 3\n",
    "    if x<7:\n",
    "        return - 0.0276*x**6 + 0.7266*x**5 - 7.7866*x**4 + 44.327*x**3 - 139.41*x**2 + 229.58*x-152.35\n",
    "    if x>=7:\n",
    "        return 0.0915*x**6 - 5.4509*x**5 + 133.54*x**4 - 1720.5*x**3 + 12280*x**2 - 46009*x + 70788\n",
    "\n",
    "print(\"pH\")\n",
    "print(f\"y({x}) = {pH(x):.3f}\")"
   ]
  },
  {
   "cell_type": "code",
   "execution_count": 270,
   "metadata": {},
   "outputs": [
    {
     "name": "stdout",
     "output_type": "stream",
     "text": [
      "DBO\n",
      "y(30) = 3.189\n"
     ]
    }
   ],
   "source": [
    "#3. Linha de tendência para definir q[DBO]\n",
    "\n",
    "x = 30\n",
    "\n",
    "def DBO(x):\n",
    "    if x >30:\n",
    "        return 2\n",
    "    return -6.89e-7*(x**6) + 7.09e-5*(x**5) - 2.58e-3*(x**4) + 3.34e-2*(x**3) + 0.211*(x**2) - 10.8*(x) + 104.7\n",
    "\n",
    "print(\"DBO\")\n",
    "print(f\"y({x}) = {DBO(x):.3f}\")\n"
   ]
  },
  {
   "cell_type": "code",
   "execution_count": 271,
   "metadata": {},
   "outputs": [
    {
     "name": "stdout",
     "output_type": "stream",
     "text": [
      "NTotal\n",
      "y(6.125) = 65.976\n"
     ]
    }
   ],
   "source": [
    "#4. Linha de Tendência para definir q[NTotal]\n",
    "\n",
    "x = 6.125\n",
    "\n",
    "def NTotal(x):\n",
    "    if x>100:\n",
    "        return 1\n",
    "    return 6e-6*x**4 - 0.0015*x**3 + 0.1246*x**2 - 4.9171*x + 91.755\n",
    "\n",
    "print(\"NTotal\")\n",
    "print(f\"y({x}) = {NTotal(x):.3f}\")"
   ]
  },
  {
   "cell_type": "code",
   "execution_count": 272,
   "metadata": {},
   "outputs": [
    {
     "name": "stdout",
     "output_type": "stream",
     "text": [
      "PTotal\n",
      "y(20.6) = 1.000\n"
     ]
    }
   ],
   "source": [
    "#5. Linha de Tendência para definir q[Ptotal]\n",
    "\n",
    "x = 20.6\n",
    "\n",
    "def PTotal(x):\n",
    "    if x>10:\n",
    "        return 1\n",
    "    return 0.0045*x**6 - 0.1502*x**5 + 1.9786*x**4 - 13.066*x**3 + 45.86*x**2 - 86.143*x + 91.32\n",
    "\n",
    "print(\"PTotal\")\n",
    "print(f\"y({x}) = {PTotal(x):.3f}\")"
   ]
  },
  {
   "cell_type": "code",
   "execution_count": 273,
   "metadata": {},
   "outputs": [
    {
     "name": "stdout",
     "output_type": "stream",
     "text": [
      "Temp\n",
      "y(-5) = 52.530\n"
     ]
    }
   ],
   "source": [
    "#6. Linha de Tendência para definir q[Temp]\n",
    "\n",
    "x = -5\n",
    "\n",
    "def Temp(x):\n",
    "    if x<-5:\n",
    "        return 1\n",
    "    if x>15:\n",
    "        return 9\n",
    "    return 0.0001*(x**6) - 0.0047*(x**5) + 0.0397*(x**4) + 0.1473*(x**3) - 2.7079*(x**2) - 1.4269*x + 90.443\n",
    "\n",
    "print(\"Temp\")\n",
    "print(f\"y({x}) = {Temp(x):.3f}\")\n",
    "    "
   ]
  },
  {
   "cell_type": "code",
   "execution_count": 274,
   "metadata": {},
   "outputs": [
    {
     "name": "stdout",
     "output_type": "stream",
     "text": [
      "Turbidez\n",
      "y(69.26) = 30.623\n"
     ]
    }
   ],
   "source": [
    "#7. Linha de Tendência para definir q[Turbidez]\n",
    "\n",
    "x = 69.26\n",
    "\n",
    "def Turbidez(x):\n",
    "    if x>100:\n",
    "        return 5\n",
    "    return -0.0001*x**3 + 0.0221*x**2 - 1.9571*x + 93.383\n",
    "\n",
    "print(\"Turbidez\")\n",
    "print(f\"y({x}) = {Turbidez(x):.3f}\")"
   ]
  },
  {
   "cell_type": "code",
   "execution_count": 275,
   "metadata": {},
   "outputs": [
    {
     "name": "stdout",
     "output_type": "stream",
     "text": [
      "y(152.9) = 79.751\n"
     ]
    }
   ],
   "source": [
    "#8. Linha de Tendência para definir q[ResTotal]\n",
    "\n",
    "x = 152.9\n",
    "\n",
    "def ResTotal(x):\n",
    "    if x>500:\n",
    "        return 32\n",
    "    return 6e-7*x**3 - 0.0006*x**2 + 0.0475*x + 84.371\n",
    "\n",
    "print(f\"y({x}) = {ResTotal(x):.3f}\")"
   ]
  },
  {
   "cell_type": "code",
   "execution_count": 276,
   "metadata": {},
   "outputs": [
    {
     "name": "stdout",
     "output_type": "stream",
     "text": [
      "O2\n",
      "y(78) = 83.558\n"
     ]
    }
   ],
   "source": [
    "# Linha de Tenderência para definir q[O2]\n",
    "\n",
    "x = 78\n",
    "\n",
    "def O2(x):\n",
    "    if x>140:\n",
    "        return 47\n",
    "    return -3.95e-11*x**6 + 5.08e-08*x**5 - 1.41e-05*x**4 + 1.37e-03*x**3 - 4.38e-2*x**2 + 1.06*x + 1.36\n",
    "\n",
    "print(\"O2\")\n",
    "print(f\"y({x}) = {O2(x):.3f}\")"
   ]
  }
 ],
 "metadata": {
  "kernelspec": {
   "display_name": "Python 3",
   "language": "python",
   "name": "python3"
  },
  "language_info": {
   "codemirror_mode": {
    "name": "ipython",
    "version": 3
   },
   "file_extension": ".py",
   "mimetype": "text/x-python",
   "name": "python",
   "nbconvert_exporter": "python",
   "pygments_lexer": "ipython3",
   "version": "3.11.3"
  },
  "orig_nbformat": 4
 },
 "nbformat": 4,
 "nbformat_minor": 2
}
