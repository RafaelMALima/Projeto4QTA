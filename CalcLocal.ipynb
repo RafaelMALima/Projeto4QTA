{
 "cells": [
  {
   "cell_type": "code",
   "execution_count": 245,
   "metadata": {},
   "outputs": [],
   "source": [
    "import numpy as np\n",
    "import matplotlib.pyplot as plt\n",
    "import pandas as pd\n",
    "from IQA import IQA\n",
    "\n",
    "qs = [1]*10"
   ]
  },
  {
   "attachments": {},
   "cell_type": "markdown",
   "metadata": {},
   "source": [
    "### Valores"
   ]
  },
  {
   "attachments": {},
   "cell_type": "markdown",
   "metadata": {},
   "source": [
    "* 1\n",
    "\n",
    "Coliformes = 8800\n",
    "\n",
    "q[Coliformes] = 7.5"
   ]
  },
  {
   "cell_type": "code",
   "execution_count": 246,
   "metadata": {},
   "outputs": [],
   "source": [
    "qs[0] = 7.5"
   ]
  },
  {
   "attachments": {},
   "cell_type": "markdown",
   "metadata": {},
   "source": [
    "* 2 \n",
    "  \n",
    "pH = 6\n",
    "\n",
    "q[pH] = 51.05"
   ]
  },
  {
   "cell_type": "code",
   "execution_count": 247,
   "metadata": {},
   "outputs": [],
   "source": [
    "qs[1] = 51.05"
   ]
  },
  {
   "attachments": {},
   "cell_type": "markdown",
   "metadata": {},
   "source": [
    "* 3\n",
    "\n",
    "DBO = 32.5\n",
    "\n",
    "q[DBO] = 2"
   ]
  },
  {
   "cell_type": "code",
   "execution_count": 248,
   "metadata": {},
   "outputs": [],
   "source": [
    "qs[2] = 2"
   ]
  },
  {
   "attachments": {},
   "cell_type": "markdown",
   "metadata": {},
   "source": [
    "* 4\n",
    "\n",
    "Ntotal = 6.125 mg/L\n",
    "\n",
    "q[NTotal] = 65.976"
   ]
  },
  {
   "cell_type": "code",
   "execution_count": 249,
   "metadata": {},
   "outputs": [],
   "source": [
    "qs[3] = 65.976"
   ]
  },
  {
   "attachments": {},
   "cell_type": "markdown",
   "metadata": {},
   "source": [
    "* 5 \n",
    "  \n",
    "PTotal = 20.6\n",
    "\n",
    "q[PTotal] = 1"
   ]
  },
  {
   "cell_type": "code",
   "execution_count": 250,
   "metadata": {},
   "outputs": [],
   "source": [
    "qs[4] = 1"
   ]
  },
  {
   "attachments": {},
   "cell_type": "markdown",
   "metadata": {},
   "source": [
    "* 6\n",
    "\n",
    "\n",
    "Tamb = 29\n",
    "\n",
    "Th2o = 24\n",
    "\n",
    "DeltaT = -5\n",
    "\n",
    "q[DeltaT(-5)] = 51,29"
   ]
  },
  {
   "cell_type": "code",
   "execution_count": 251,
   "metadata": {},
   "outputs": [],
   "source": [
    "qs[5] = 51.29"
   ]
  },
  {
   "attachments": {},
   "cell_type": "markdown",
   "metadata": {},
   "source": [
    "* 7\n",
    "\n",
    "Turbidez = 69.26\n",
    "\n",
    "q[Turbidez] = 30.623\n"
   ]
  },
  {
   "cell_type": "code",
   "execution_count": 252,
   "metadata": {},
   "outputs": [],
   "source": [
    "qs[6] = 30.623"
   ]
  },
  {
   "attachments": {},
   "cell_type": "markdown",
   "metadata": {},
   "source": [
    "* 8\n",
    "\n",
    "ResTotal = 152.9 mg\n",
    "\n",
    "q[ResTotal] = 79.751"
   ]
  },
  {
   "cell_type": "code",
   "execution_count": 253,
   "metadata": {},
   "outputs": [],
   "source": [
    "qs[7] = 79.751"
   ]
  },
  {
   "attachments": {},
   "cell_type": "markdown",
   "metadata": {},
   "source": [
    "* 9\n",
    "\n",
    "o2(%) = 0.78\n",
    "\n",
    "q[o2(%)] = 82.98"
   ]
  },
  {
   "cell_type": "code",
   "execution_count": 254,
   "metadata": {},
   "outputs": [],
   "source": [
    "qs[8] = 82.98"
   ]
  },
  {
   "attachments": {},
   "cell_type": "markdown",
   "metadata": {},
   "source": [
    "### IQA"
   ]
  },
  {
   "cell_type": "code",
   "execution_count": 255,
   "metadata": {},
   "outputs": [
    {
     "name": "stdout",
     "output_type": "stream",
     "text": [
      "IQA = 20.726\n"
     ]
    }
   ],
   "source": [
    "print(f\"IQA = {IQA(qs):.3f}\")"
   ]
  },
  {
   "attachments": {},
   "cell_type": "markdown",
   "metadata": {},
   "source": [
    "### Cálculos"
   ]
  },
  {
   "cell_type": "code",
   "execution_count": 256,
   "metadata": {},
   "outputs": [
    {
     "name": "stdout",
     "output_type": "stream",
     "text": [
      "y(152.9) = 79.751\n"
     ]
    }
   ],
   "source": [
    "# Linha de Tendência para definir q[ResTotal]\n",
    "\n",
    "x = 152.9\n",
    "\n",
    "def y(x):\n",
    "    return 6e-7*x**3 - 0.0006*x**2 + 0.0475*x + 84.371\n",
    "\n",
    "print(f\"y({x}) = {y(x):.3f}\")"
   ]
  },
  {
   "cell_type": "code",
   "execution_count": 257,
   "metadata": {},
   "outputs": [
    {
     "name": "stdout",
     "output_type": "stream",
     "text": [
      "PTotal\n",
      "y(20.6) = 311.290\n",
      "???\n"
     ]
    }
   ],
   "source": [
    "# Linha de Tendência para definir q[Ptotal]\n",
    "\n",
    "x = 20.6\n",
    "\n",
    "def y(x):\n",
    "    return 18.408*x - 67.915\n",
    "\n",
    "print(\"PTotal\")\n",
    "print(f\"y({x}) = {y(x):.3f}\")\n",
    "print(\"???\")"
   ]
  },
  {
   "cell_type": "code",
   "execution_count": 258,
   "metadata": {},
   "outputs": [
    {
     "name": "stdout",
     "output_type": "stream",
     "text": [
      "NTotal\n",
      "y(6.125) = 65.976\n"
     ]
    }
   ],
   "source": [
    "# Linha de Tendência para definir q[NTotal]\n",
    "\n",
    "x = 6.125\n",
    "\n",
    "def y(x):\n",
    "    return 6e-6*x**4 - 0.0015*x**3 + 0.1246*x**2 - 4.9171*x + 91.755\n",
    "\n",
    "print(\"NTotal\")\n",
    "print(f\"y({x}) = {y(x):.3f}\")"
   ]
  },
  {
   "cell_type": "code",
   "execution_count": 259,
   "metadata": {},
   "outputs": [
    {
     "name": "stdout",
     "output_type": "stream",
     "text": [
      "Turbidez\n",
      "y(69.26) = 30.623\n"
     ]
    }
   ],
   "source": [
    "# Linha de Tendência para definir q[Turbidez]\n",
    "\n",
    "x = 69.26\n",
    "\n",
    "def y(x):\n",
    "    return -0.0001*x**3 + 0.0221*x**2 - 1.9571*x + 93.383\n",
    "\n",
    "print(\"Turbidez\")\n",
    "print(f\"y({x}) = {y(x):.3f}\")"
   ]
  }
 ],
 "metadata": {
  "kernelspec": {
   "display_name": "Python 3",
   "language": "python",
   "name": "python3"
  },
  "language_info": {
   "codemirror_mode": {
    "name": "ipython",
    "version": 3
   },
   "file_extension": ".py",
   "mimetype": "text/x-python",
   "name": "python",
   "nbconvert_exporter": "python",
   "pygments_lexer": "ipython3",
   "version": "3.11.3"
  },
  "orig_nbformat": 4
 },
 "nbformat": 4,
 "nbformat_minor": 2
}
