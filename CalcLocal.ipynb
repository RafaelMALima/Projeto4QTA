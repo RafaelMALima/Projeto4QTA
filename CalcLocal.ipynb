{
 "cells": [
  {
   "cell_type": "code",
   "execution_count": 364,
   "metadata": {},
   "outputs": [],
   "source": [
    "import numpy as np\n",
    "import matplotlib.pyplot as plt\n",
    "import pandas as pd\n",
    "from IQA import IQA\n",
    "\n",
    "qs = [1]*10"
   ]
  },
  {
   "attachments": {},
   "cell_type": "markdown",
   "metadata": {},
   "source": [
    "### Valores"
   ]
  },
  {
   "attachments": {},
   "cell_type": "markdown",
   "metadata": {},
   "source": [
    "* 1\n",
    "\n",
    "Coliformes = 8800\n",
    "\n",
    "q[Coliformes] = 7.5"
   ]
  },
  {
   "cell_type": "code",
   "execution_count": 365,
   "metadata": {},
   "outputs": [],
   "source": [
    "qs[0] = 7.5"
   ]
  },
  {
   "attachments": {},
   "cell_type": "markdown",
   "metadata": {},
   "source": [
    "* 2 \n",
    "  \n",
    "pH = 6\n",
    "\n",
    "q[pH] = 51.05"
   ]
  },
  {
   "cell_type": "code",
   "execution_count": 366,
   "metadata": {},
   "outputs": [],
   "source": [
    "qs[1] = 51.05"
   ]
  },
  {
   "attachments": {},
   "cell_type": "markdown",
   "metadata": {},
   "source": [
    "* 3\n",
    "\n",
    "DBO = 32.5\n",
    "\n",
    "q[DBO] = 2"
   ]
  },
  {
   "cell_type": "code",
   "execution_count": 367,
   "metadata": {},
   "outputs": [],
   "source": [
    "qs[2] = 2"
   ]
  },
  {
   "attachments": {},
   "cell_type": "markdown",
   "metadata": {},
   "source": [
    "* 4\n",
    "\n",
    "Ntotal = 6.125 mg/L\n",
    "\n",
    "q[NTotal] = 65.976"
   ]
  },
  {
   "cell_type": "code",
   "execution_count": 368,
   "metadata": {},
   "outputs": [],
   "source": [
    "qs[3] = 65.976"
   ]
  },
  {
   "attachments": {},
   "cell_type": "markdown",
   "metadata": {},
   "source": [
    "* 5 \n",
    "  \n",
    "PTotal = 20.6\n",
    "\n",
    "q[PTotal] = 1"
   ]
  },
  {
   "cell_type": "code",
   "execution_count": 369,
   "metadata": {},
   "outputs": [],
   "source": [
    "qs[4] = 1"
   ]
  },
  {
   "attachments": {},
   "cell_type": "markdown",
   "metadata": {},
   "source": [
    "* 6\n",
    "\n",
    "\n",
    "Tamb = 29\n",
    "\n",
    "Th2o = 24\n",
    "\n",
    "DeltaT = -5\n",
    "\n",
    "q[DeltaT(-5)] = 51,29"
   ]
  },
  {
   "cell_type": "code",
   "execution_count": 370,
   "metadata": {},
   "outputs": [],
   "source": [
    "qs[5] = 51.29"
   ]
  },
  {
   "attachments": {},
   "cell_type": "markdown",
   "metadata": {},
   "source": [
    "* 7\n",
    "\n",
    "Turbidez = 69.26\n",
    "\n",
    "q[Turbidez] = 30.623\n"
   ]
  },
  {
   "cell_type": "code",
   "execution_count": 371,
   "metadata": {},
   "outputs": [],
   "source": [
    "qs[6] = 30.623"
   ]
  },
  {
   "attachments": {},
   "cell_type": "markdown",
   "metadata": {},
   "source": [
    "* 8\n",
    "\n",
    "ResTotal = 152.9 mg\n",
    "\n",
    "q[ResTotal] = 79.751"
   ]
  },
  {
   "cell_type": "code",
   "execution_count": 372,
   "metadata": {},
   "outputs": [],
   "source": [
    "qs[7] = 79.751"
   ]
  },
  {
   "attachments": {},
   "cell_type": "markdown",
   "metadata": {},
   "source": [
    "* 9\n",
    "\n",
    "o2(%) = 78%\n",
    "\n",
    "q[o2(%)] = 82.98"
   ]
  },
  {
   "cell_type": "code",
   "execution_count": 373,
   "metadata": {},
   "outputs": [],
   "source": [
    "qs[8] = 82.98"
   ]
  },
  {
   "attachments": {},
   "cell_type": "markdown",
   "metadata": {},
   "source": [
    "### IQA"
   ]
  },
  {
   "cell_type": "code",
   "execution_count": 374,
   "metadata": {},
   "outputs": [
    {
     "name": "stdout",
     "output_type": "stream",
     "text": [
      "IQA = 20.726\n"
     ]
    }
   ],
   "source": [
    "print(f\"IQA = {IQA(qs):.3f}\")"
   ]
  },
  {
   "attachments": {},
   "cell_type": "markdown",
   "metadata": {},
   "source": [
    "### Cálculos"
   ]
  },
  {
   "cell_type": "code",
   "execution_count": 375,
   "metadata": {},
   "outputs": [],
   "source": [
    "#1. Linha de tendência para definir q[Coliformes]\n",
    "# TODO Terminar\n",
    "\n",
    "x = 8800\n",
    "\n",
    "def Coliformes(x):\n",
    "    if x > 1e5:\n",
    "        return 3\n",
    "    #???"
   ]
  },
  {
   "cell_type": "code",
   "execution_count": 376,
   "metadata": {},
   "outputs": [
    {
     "name": "stdout",
     "output_type": "stream",
     "text": [
      "pH\n",
      "y(6) = -5421.721\n"
     ]
    }
   ],
   "source": [
    "#2. Linha de tendência para definir q[pH]\n",
    "# TODO Revisar\n",
    "\n",
    "x = 6\n",
    "\n",
    "def pH(x):\n",
    "    if x<2:\n",
    "        return 2\n",
    "    if x>12:\n",
    "        return 3\n",
    "    return -5.76e-5*x**10 + 4.28e-03*x**9 - 0.138*x**8 + 2.55*x**7 - 29.7*x**6 + 225*x**5 - 1132*x**4 + 3704*x**3 - 7546*x**2 + 8642*x-4226\n",
    "\n",
    "print(\"pH\")\n",
    "print(f\"y({x}) = {pH(x):.3f}\")"
   ]
  },
  {
   "cell_type": "code",
   "execution_count": 377,
   "metadata": {},
   "outputs": [
    {
     "name": "stdout",
     "output_type": "stream",
     "text": [
      "DBO\n",
      "y(30) = -41.580\n"
     ]
    }
   ],
   "source": [
    "#3. Linha de tendência para definir q[DBO]\n",
    "# TODO Revisar\n",
    "\n",
    "x = 30\n",
    "\n",
    "def DBO(x):\n",
    "    if x >30:\n",
    "        return 2\n",
    "    return -7e-7*(x**6) + 7e-5*(x**5) - 0.0026*(x**4) + 0.0334*(x**3) + 0.211*(x**2) - 10.756*(x) + 104.7\n",
    "\n",
    "print(\"DBO\")\n",
    "print(f\"y({x}) = {DBO(x):.3f}\")\n"
   ]
  },
  {
   "cell_type": "code",
   "execution_count": 378,
   "metadata": {},
   "outputs": [
    {
     "name": "stdout",
     "output_type": "stream",
     "text": [
      "NTotal\n",
      "y(6.125) = 65.976\n"
     ]
    }
   ],
   "source": [
    "#4. Linha de Tendência para definir q[NTotal]\n",
    "\n",
    "x = 6.125\n",
    "\n",
    "def NTotal(x):\n",
    "    if x>100:\n",
    "        return 1\n",
    "    return 6e-6*x**4 - 0.0015*x**3 + 0.1246*x**2 - 4.9171*x + 91.755\n",
    "\n",
    "print(\"NTotal\")\n",
    "print(f\"y({x}) = {NTotal(x):.3f}\")"
   ]
  },
  {
   "cell_type": "code",
   "execution_count": 390,
   "metadata": {},
   "outputs": [
    {
     "name": "stdout",
     "output_type": "stream",
     "text": [
      "PTotal\n",
      "y(20.6) = 1.000\n"
     ]
    }
   ],
   "source": [
    "#5. Linha de Tendência para definir q[Ptotal]\n",
    "\n",
    "x = 20.6\n",
    "\n",
    "def PTotal(x):\n",
    "    if x>10:\n",
    "        return 1\n",
    "    return 0.0045*x**6 - 0.1502*x**5 + 1.9786*x**4 - 13.066*x**3 + 45.86*x**2 - 86.143*x + 91.32\n",
    "\n",
    "print(\"PTotal\")\n",
    "print(f\"y({x}) = {PTotal(x):.3f}\")"
   ]
  },
  {
   "cell_type": "code",
   "execution_count": 380,
   "metadata": {},
   "outputs": [
    {
     "name": "stdout",
     "output_type": "stream",
     "text": [
      "Temp\n",
      "y(-5) = 52.530\n"
     ]
    }
   ],
   "source": [
    "#6. Linha de Tendência para definir q[Temp]\n",
    "\n",
    "x = -5\n",
    "\n",
    "def Temp(x):\n",
    "    if x<-5:\n",
    "        return 1\n",
    "    if x>15:\n",
    "        return 9\n",
    "    return 0.0001*(x**6) - 0.0047*(x**5) + 0.0397*(x**4) + 0.1473*(x**3) - 2.7079*(x**2) - 1.4269*x + 90.443\n",
    "\n",
    "print(\"Temp\")\n",
    "print(f\"y({x}) = {Temp(x):.3f}\")\n",
    "    "
   ]
  },
  {
   "cell_type": "code",
   "execution_count": 381,
   "metadata": {},
   "outputs": [
    {
     "name": "stdout",
     "output_type": "stream",
     "text": [
      "Turbidez\n",
      "y(69.26) = 30.623\n"
     ]
    }
   ],
   "source": [
    "#7. Linha de Tendência para definir q[Turbidez]\n",
    "\n",
    "x = 69.26\n",
    "\n",
    "def Turbidez(x):\n",
    "    if x>100:\n",
    "        return 5\n",
    "    return -0.0001*x**3 + 0.0221*x**2 - 1.9571*x + 93.383\n",
    "\n",
    "print(\"Turbidez\")\n",
    "print(f\"y({x}) = {Turbidez(x):.3f}\")"
   ]
  },
  {
   "cell_type": "code",
   "execution_count": 382,
   "metadata": {},
   "outputs": [
    {
     "name": "stdout",
     "output_type": "stream",
     "text": [
      "y(152.9) = 79.751\n"
     ]
    }
   ],
   "source": [
    "#8. Linha de Tendência para definir q[ResTotal]\n",
    "\n",
    "x = 152.9\n",
    "\n",
    "def ResTotal(x):\n",
    "    if x>500:\n",
    "        return 32\n",
    "    return 6e-7*x**3 - 0.0006*x**2 + 0.0475*x + 84.371\n",
    "\n",
    "print(f\"y({x}) = {ResTotal(x):.3f}\")"
   ]
  },
  {
   "cell_type": "code",
   "execution_count": 391,
   "metadata": {},
   "outputs": [
    {
     "name": "stdout",
     "output_type": "stream",
     "text": [
      "O2\n",
      "y(78) = 9191104.326\n"
     ]
    }
   ],
   "source": [
    "# Linha de Tenderência para definir q[O2]\n",
    "# TODO Revisar\n",
    "\n",
    "x = 78\n",
    "\n",
    "def O2(x):\n",
    "    if x>140:\n",
    "        return 47\n",
    "    return 0.0001*(x**6) - 0.0061*(x**5) + 0.1323*(x**4) - 1.3861*(x**3) + 7.2932*(x**2) - 10.095*x + 8.0996\n",
    "\n",
    "print(\"O2\")\n",
    "print(f\"y({x}) = {O2(x):.3f}\")"
   ]
  }
 ],
 "metadata": {
  "kernelspec": {
   "display_name": "Python 3",
   "language": "python",
   "name": "python3"
  },
  "language_info": {
   "codemirror_mode": {
    "name": "ipython",
    "version": 3
   },
   "file_extension": ".py",
   "mimetype": "text/x-python",
   "name": "python",
   "nbconvert_exporter": "python",
   "pygments_lexer": "ipython3",
   "version": "3.11.3"
  },
  "orig_nbformat": 4
 },
 "nbformat": 4,
 "nbformat_minor": 2
}
