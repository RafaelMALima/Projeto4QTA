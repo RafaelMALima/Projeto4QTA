{
 "cells": [
  {
   "cell_type": "code",
   "execution_count": 89,
   "metadata": {},
   "outputs": [],
   "source": [
    "import numpy as np\n",
    "import matplotlib.pyplot as plt\n",
    "import pandas as pd\n",
    "from IQA import *\n",
    "\n",
    "qs = [1]*10"
   ]
  },
  {
   "attachments": {},
   "cell_type": "markdown",
   "metadata": {},
   "source": [
    "### Cálculos"
   ]
  },
  {
   "cell_type": "code",
   "execution_count": 90,
   "metadata": {},
   "outputs": [
    {
     "name": "stdout",
     "output_type": "stream",
     "text": [
      "Coliformes = 6.485\n"
     ]
    }
   ],
   "source": [
    "x = 8800\n",
    "y = Coliformes(x)\n",
    "qs[0] = y\n",
    "\n",
    "print(f\"Coliformes = {y:.3f}\")"
   ]
  },
  {
   "cell_type": "code",
   "execution_count": 91,
   "metadata": {},
   "outputs": [
    {
     "name": "stdout",
     "output_type": "stream",
     "text": [
      "pH\n",
      "y(6) = 51.904\n"
     ]
    }
   ],
   "source": [
    "x = 6\n",
    "y = pH(x)\n",
    "qs[1] = y\n",
    "\n",
    "print(\"pH\")\n",
    "print(f\"y({x}) = {y:.3f}\")"
   ]
  },
  {
   "cell_type": "code",
   "execution_count": 92,
   "metadata": {},
   "outputs": [
    {
     "name": "stdout",
     "output_type": "stream",
     "text": [
      "DBO\n",
      "y(30) = 3.189\n"
     ]
    }
   ],
   "source": [
    "x = 30\n",
    "y = DBO(x)\n",
    "qs[2] = y\n",
    "\n",
    "print(\"DBO\")\n",
    "print(f\"y({x}) = {y:.3f}\")\n"
   ]
  },
  {
   "cell_type": "code",
   "execution_count": 93,
   "metadata": {},
   "outputs": [
    {
     "name": "stdout",
     "output_type": "stream",
     "text": [
      "NTotal\n",
      "y(6.125) = 65.976\n"
     ]
    }
   ],
   "source": [
    "x = 6.125\n",
    "y = NTotal(x)\n",
    "qs[3] = y\n",
    "\n",
    "\n",
    "print(\"NTotal\")\n",
    "print(f\"y({x}) = {y:.3f}\")"
   ]
  },
  {
   "cell_type": "code",
   "execution_count": 94,
   "metadata": {},
   "outputs": [
    {
     "name": "stdout",
     "output_type": "stream",
     "text": [
      "PTotal\n",
      "y(20.6) = 1.000\n"
     ]
    }
   ],
   "source": [
    "x = 20.6\n",
    "y = PTotal(x)\n",
    "qs[4] = y\n",
    "\n",
    "print(\"PTotal\")\n",
    "print(f\"y({x}) = {y:.3f}\")"
   ]
  },
  {
   "cell_type": "code",
   "execution_count": 95,
   "metadata": {},
   "outputs": [
    {
     "name": "stdout",
     "output_type": "stream",
     "text": [
      "Temp\n",
      "y(-5) = 52.530\n"
     ]
    }
   ],
   "source": [
    "x = -5\n",
    "y = Temp(x)\n",
    "qs[5] = y\n",
    "\n",
    "print(\"Temp\")\n",
    "print(f\"y({x}) = {y:.3f}\")\n",
    "    "
   ]
  },
  {
   "cell_type": "code",
   "execution_count": 96,
   "metadata": {},
   "outputs": [
    {
     "name": "stdout",
     "output_type": "stream",
     "text": [
      "Turbidez\n",
      "y(69.26) = 30.623\n"
     ]
    }
   ],
   "source": [
    "x = 69.26\n",
    "y = Turbidez(x)\n",
    "qs[6] = y\n",
    "\n",
    "\n",
    "print(\"Turbidez\")\n",
    "print(f\"y({x}) = {y:.3f}\")"
   ]
  },
  {
   "cell_type": "code",
   "execution_count": 97,
   "metadata": {},
   "outputs": [
    {
     "name": "stdout",
     "output_type": "stream",
     "text": [
      "y(152.9) = 79.751\n"
     ]
    }
   ],
   "source": [
    "x = 152.9\n",
    "y = ResTotal(x)\n",
    "qs[7] = y\n",
    "\n",
    "\n",
    "print(f\"y({x}) = {y:.3f}\")"
   ]
  },
  {
   "cell_type": "code",
   "execution_count": 98,
   "metadata": {},
   "outputs": [
    {
     "name": "stdout",
     "output_type": "stream",
     "text": [
      "O2\n",
      "y(78) = 83.558\n"
     ]
    }
   ],
   "source": [
    "x = 78\n",
    "y = O2(x)\n",
    "qs[8] = y\n",
    "\n",
    "\n",
    "print(\"O2\")\n",
    "print(f\"y({x}) = {y:.3f}\")"
   ]
  },
  {
   "attachments": {},
   "cell_type": "markdown",
   "metadata": {},
   "source": [
    "### IQA"
   ]
  },
  {
   "cell_type": "code",
   "execution_count": 99,
   "metadata": {},
   "outputs": [
    {
     "name": "stdout",
     "output_type": "stream",
     "text": [
      "IQA = 21.366\n"
     ]
    }
   ],
   "source": [
    "print(f\"IQA = {IQA(qs):.3f}\")"
   ]
  }
 ],
 "metadata": {
  "kernelspec": {
   "display_name": "Python 3",
   "language": "python",
   "name": "python3"
  },
  "language_info": {
   "codemirror_mode": {
    "name": "ipython",
    "version": 3
   },
   "file_extension": ".py",
   "mimetype": "text/x-python",
   "name": "python",
   "nbconvert_exporter": "python",
   "pygments_lexer": "ipython3",
   "version": "3.11.3"
  },
  "orig_nbformat": 4
 },
 "nbformat": 4,
 "nbformat_minor": 2
}
